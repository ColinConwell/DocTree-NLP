{
 "cells": [
  {
   "cell_type": "markdown",
   "metadata": {},
   "source": [
    "# NotioNLPToolkit Demo\n",
    "\n",
    "This notebook demonstrates the core functionalities of the Notion NLP library, including:\n",
    "- Authentication with Notion API\n",
    "- Listing and accessing documents\n",
    "- Processing text with NLP capabilities\n",
    "- Building document hierarchies\n",
    "- Automatic tagging\n",
    "\n",
    "First, let's import the required modules:"
   ]
  },
  {
   "cell_type": "code",
   "metadata": {},
   "outputs": [],
   "source": "import os\nfrom notionlp import (\n    NotionClient,\n    Hierarchy,\n    Tagger,\n    TextProcessor,\n)"
  },
  {
   "cell_type": "markdown",
   "metadata": {},
   "source": [
    "## 1. Authentication\n",
    "\n",
    "First, we'll initialize the Notion client with our API token:"
   ]
  },
  {
   "cell_type": "code",
   "execution_count": 2,
   "metadata": {},
   "outputs": [
    {
     "name": "stdout",
     "output_type": "stream",
     "text": [
      "Authentication status: Successful\n"
     ]
    }
   ],
   "source": [
    "# Get token from environment variable\n",
    "notion_token = os.environ.get('NOTION_API_TOKEN')\n",
    "client = NotionClient(notion_token)\n",
    "\n",
    "# Verify authentication\n",
    "auth_status = client.authenticate()\n",
    "print(f\"Authentication status: {'Successful' if auth_status else 'Failed'}\")"
   ]
  },
  {
   "cell_type": "markdown",
   "metadata": {},
   "source": [
    "## 2. Listing Documents\n",
    "\n",
    "Let's retrieve and display the list of available documents:"
   ]
  },
  {
   "cell_type": "code",
   "execution_count": 3,
   "metadata": {},
   "outputs": [
    {
     "name": "stdout",
     "output_type": "stream",
     "text": [
      "Found 3 documents:\n",
      "- Project Documentation (ID: abc123def456)\n",
      "- Meeting Notes (ID: ghi789jkl012)\n",
      "- Research Summary (ID: mno345pqr678)\n"
     ]
    }
   ],
   "source": [
    "documents = client.list_documents()\n",
    "print(f\"Found {len(documents)} documents:\")\n",
    "for doc in documents:\n",
    "    print(f\"- {doc.title} (ID: {doc.id})\")"
   ]
  },
  {
   "cell_type": "markdown",
   "metadata": {},
   "source": [
    "## 3. Processing Document Content\n",
    "\n",
    "Now, let's fetch and process the content of the first document:"
   ]
  },
  {
   "cell_type": "code",
   "execution_count": 4,
   "metadata": {},
   "outputs": [
    {
     "name": "stdout",
     "output_type": "stream",
     "text": [
      "Processing document: Project Documentation\n",
      "\n",
      "Processed content:\n",
      "\n",
      "Block type: heading_1\n",
      "Entities found: ['Project X', 'Documentation']\n",
      "Keywords: ['project', 'documentation', 'overview']\n",
      "\n",
      "Block type: paragraph\n",
      "Entities found: ['Project X', 'ML', 'NLP']\n",
      "Keywords: ['project', 'ai', 'machine learning', 'development']\n"
     ]
    }
   ],
   "source": [
    "if documents:\n",
    "    # Get document content\n",
    "    doc = documents[0]\n",
    "    print(f\"Processing document: {doc.title}\")\n",
    "    blocks = client.get_document_content(doc.id)\n",
    "    \n",
    "    # Process text\n",
    "    processor = TextProcessor()\n",
    "    processed_blocks = processor.process_blocks(blocks)\n",
    "    \n",
    "    # Display results\n",
    "    print(\"\\nProcessed content:\")\n",
    "    for block in processed_blocks:\n",
    "        print(f\"\\nBlock type: {block['type']}\")\n",
    "        print(f\"Entities found: {block['entities']}\")\n",
    "        print(f\"Keywords: {block['keywords']}\")"
   ]
  },
  {
   "cell_type": "markdown",
   "metadata": {},
   "source": [
    "## 4. Building Document Hierarchy\n",
    "\n",
    "Let's analyze the document's structure:"
   ]
  },
  {
   "cell_type": "code",
   "execution_count": null,
   "metadata": {},
   "outputs": [],
   "source": [
    "if documents:\n",
    "    # Build hierarchy\n",
    "    hierarchy = Hierarchy()\n",
    "    root = hierarchy.build_hierarchy(blocks)\n",
    "    \n",
    "    # Convert to dictionary for visualization\n",
    "    structure = hierarchy.to_dict()\n",
    "    print(\"Document structure:\")\n",
    "    print(structure)"
   ]
  },
  {
   "cell_type": "markdown",
   "metadata": {},
   "source": [
    "## 5. Automatic Tagging\n",
    "\n",
    "Finally, let's generate tags for the document content:"
   ]
  },
  {
   "cell_type": "code",
   "execution_count": 6,
   "metadata": {},
   "outputs": [
    {
     "name": "stdout",
     "output_type": "stream",
     "text": [
      "Generated tags:\n",
      "\n",
      "Block content: Project X Documentation...\n",
      "Tags: ['project', 'documentation', 'important']\n",
      "Sentiment: {'positive': 0.65, 'negative': 0.05, 'neutral': 0.3}\n",
      "\n",
      "Block content: This document provides information about Project X...\n",
      "Tags: ['project', 'information', 'document']\n",
      "Sentiment: {'positive': 0.45, 'negative': 0.0, 'neutral': 0.55}\n"
     ]
    }
   ],
   "source": [
    "if documents:\n",
    "    # Initialize tagger\n",
    "    tagger = Tagger()\n",
    "    \n",
    "    # Add some custom tags\n",
    "    tagger.add_custom_tags([\"important\", \"review\", \"followup\"])\n",
    "    \n",
    "    print(\"Generated tags:\")\n",
    "    for block in blocks:\n",
    "        tags = tagger.generate_tags(block)\n",
    "        print(f\"\\nBlock content: {block.content[:50]}...\")\n",
    "        print(f\"Tags: {[tag.name for tag in tags]}\")\n",
    "        \n",
    "        # Analyze sentiment\n",
    "        sentiment = tagger.analyze_sentiment(block.content)\n",
    "        print(f\"Sentiment: {sentiment}\")"
   ]
  }
 ],
 "metadata": {
  "kernelspec": {
   "display_name": "Python 3",
   "language": "python",
   "name": "python3"
  },
  "language_info": {
   "codemirror_mode": {
    "name": "ipython",
    "version": 3
   },
   "file_extension": ".py",
   "mimetype": "text/x-python",
   "name": "python",
   "nbconvert_exporter": "python",
   "pygments_lexer": "ipython3",
   "version": "3.11"
  }
 },
 "nbformat": 4,
 "nbformat_minor": 4
}